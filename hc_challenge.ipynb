{
 "cells": [
  {
   "cell_type": "markdown",
   "metadata": {},
   "source": [
    "# KindleUnlimited Subscription Analysis\n",
    "\n",
    "## Introduction\n",
    "\n",
    "In this notebook, I assess performance data for titles that have been on Amazon's subscription program KindleUnlimited (KU for short). My goal was to find the 3 following items:\n",
    "\n",
    "1. The 5 titles with the highest daily borrow rate from April 1, 2019 through June 30, 2019 and their borrow rates.\n",
    "\n",
    "2. The mean and standard deviation of daily borrow rates for titles active in Prime Reading vs. the mean and standard deviation for ones not active in Prime Reading and determining if the difference is significant.\n",
    "\n",
    "3. The correlation betweeen genre and daily borrow rates\n",
    "\n",
    "From exploring the dataset and finding the 3 above items, I then have recommendations for the business team in charge of nominating the titles. \n",
    "\n",
    "## The Data\n",
    "\n",
    "I was given two csv files, which I import and interpret below. There are over 2900 titles across \n",
    "\n",
    "###  Dataset Interpretability\n",
    "\n",
    "A borrow is a book read through the KU program, while a sale is a book purchased on Amazon. Most titles are only on the platform quarterly but others are on for multiple quarters.\n",
    "\n",
    "For each title, there is different supporting data:\n",
    "    1. whether the title was simultaneously in Prime Reading during the quarter of participation\n",
    "    2. average sales on Amazon for the previous 90 days immediately before starting in KU\n",
    "    3. the genre\n",
    "    4. the first and last day of participation on KJ"
   ]
  },
  {
   "cell_type": "code",
   "execution_count": 2,
   "metadata": {},
   "outputs": [],
   "source": [
    "# import libraries\n",
    "\n",
    "import pandas as pd\n",
    "import numpy as np\n",
    "import matplotlib.pyplot as plt\n",
    "\n",
    "%matplotlib inline"
   ]
  },
  {
   "cell_type": "code",
   "execution_count": 6,
   "metadata": {},
   "outputs": [
    {
     "name": "stdout",
     "output_type": "stream",
     "text": [
      "1st dataset: KU Borrows\n",
      "   title_id     Date  ku_borrows\n",
      "0         0  4/21/18         3.0\n",
      "1         0  4/22/18         6.0\n",
      "2         0  4/23/18         1.0\n",
      "3         0  4/24/18         0.0\n",
      "4         0  4/25/18         3.0\n",
      "2nd dataset: Title Information\n"
     ]
    },
    {
     "data": {
      "text/html": [
       "<div>\n",
       "<style scoped>\n",
       "    .dataframe tbody tr th:only-of-type {\n",
       "        vertical-align: middle;\n",
       "    }\n",
       "\n",
       "    .dataframe tbody tr th {\n",
       "        vertical-align: top;\n",
       "    }\n",
       "\n",
       "    .dataframe thead th {\n",
       "        text-align: right;\n",
       "    }\n",
       "</style>\n",
       "<table border=\"1\" class=\"dataframe\">\n",
       "  <thead>\n",
       "    <tr style=\"text-align: right;\">\n",
       "      <th></th>\n",
       "      <th>title_id</th>\n",
       "      <th>quarter_start_date</th>\n",
       "      <th>first_day_in_KU</th>\n",
       "      <th>last_day_in_KU</th>\n",
       "      <th>avg_units_sold_in_preceding_90_days</th>\n",
       "      <th>active_in_prime_reading</th>\n",
       "      <th>genre</th>\n",
       "    </tr>\n",
       "  </thead>\n",
       "  <tbody>\n",
       "    <tr>\n",
       "      <th>0</th>\n",
       "      <td>0</td>\n",
       "      <td>4/1/18</td>\n",
       "      <td>4/1/18</td>\n",
       "      <td>6/30/19</td>\n",
       "      <td>1.422222</td>\n",
       "      <td>0</td>\n",
       "      <td>nonfiction</td>\n",
       "    </tr>\n",
       "    <tr>\n",
       "      <th>1</th>\n",
       "      <td>0</td>\n",
       "      <td>7/1/18</td>\n",
       "      <td>4/1/18</td>\n",
       "      <td>6/30/19</td>\n",
       "      <td>1.145455</td>\n",
       "      <td>1</td>\n",
       "      <td>nonfiction</td>\n",
       "    </tr>\n",
       "    <tr>\n",
       "      <th>2</th>\n",
       "      <td>0</td>\n",
       "      <td>10/1/18</td>\n",
       "      <td>4/1/18</td>\n",
       "      <td>6/30/19</td>\n",
       "      <td>0.855556</td>\n",
       "      <td>1</td>\n",
       "      <td>nonfiction</td>\n",
       "    </tr>\n",
       "    <tr>\n",
       "      <th>3</th>\n",
       "      <td>0</td>\n",
       "      <td>1/1/19</td>\n",
       "      <td>4/1/18</td>\n",
       "      <td>6/30/19</td>\n",
       "      <td>0.755556</td>\n",
       "      <td>1</td>\n",
       "      <td>nonfiction</td>\n",
       "    </tr>\n",
       "    <tr>\n",
       "      <th>4</th>\n",
       "      <td>0</td>\n",
       "      <td>4/1/19</td>\n",
       "      <td>4/1/18</td>\n",
       "      <td>6/30/19</td>\n",
       "      <td>0.600000</td>\n",
       "      <td>1</td>\n",
       "      <td>nonfiction</td>\n",
       "    </tr>\n",
       "  </tbody>\n",
       "</table>\n",
       "</div>"
      ],
      "text/plain": [
       "   title_id quarter_start_date first_day_in_KU last_day_in_KU  \\\n",
       "0         0             4/1/18          4/1/18        6/30/19   \n",
       "1         0             7/1/18          4/1/18        6/30/19   \n",
       "2         0            10/1/18          4/1/18        6/30/19   \n",
       "3         0             1/1/19          4/1/18        6/30/19   \n",
       "4         0             4/1/19          4/1/18        6/30/19   \n",
       "\n",
       "   avg_units_sold_in_preceding_90_days  active_in_prime_reading       genre  \n",
       "0                             1.422222                        0  nonfiction  \n",
       "1                             1.145455                        1  nonfiction  \n",
       "2                             0.855556                        1  nonfiction  \n",
       "3                             0.755556                        1  nonfiction  \n",
       "4                             0.600000                        1  nonfiction  "
      ]
     },
     "execution_count": 6,
     "metadata": {},
     "output_type": "execute_result"
    }
   ],
   "source": [
    "# import csv's into dataframes\n",
    "\n",
    "borrows = pd.read_csv('data_science_challenge_ku_borrows[3][1][2][2].csv')\n",
    "titles_data = pd.read_csv('data_science_challenge_ku_titles_data[3][1][2][1].csv')\n",
    "\n",
    "#print headers\n",
    "\n",
    "print('1st dataset: KU Borrows')\n",
    "\n",
    "\n",
    "print(borrows.head())\n",
    "\n",
    "print('2nd dataset: Title Information')\n",
    "titles_data.head()"
   ]
  },
  {
   "cell_type": "code",
   "execution_count": 7,
   "metadata": {},
   "outputs": [
    {
     "name": "stdout",
     "output_type": "stream",
     "text": [
      "<class 'pandas.core.frame.DataFrame'>\n",
      "RangeIndex: 222942 entries, 0 to 222941\n",
      "Data columns (total 3 columns):\n",
      " #   Column      Non-Null Count   Dtype  \n",
      "---  ------      --------------   -----  \n",
      " 0   title_id    222942 non-null  int64  \n",
      " 1   Date        222942 non-null  object \n",
      " 2   ku_borrows  222932 non-null  float64\n",
      "dtypes: float64(1), int64(1), object(1)\n",
      "memory usage: 5.1+ MB\n",
      "None\n",
      "<class 'pandas.core.frame.DataFrame'>\n",
      "RangeIndex: 2905 entries, 0 to 2904\n",
      "Data columns (total 7 columns):\n",
      " #   Column                               Non-Null Count  Dtype  \n",
      "---  ------                               --------------  -----  \n",
      " 0   title_id                             2905 non-null   int64  \n",
      " 1   quarter_start_date                   2905 non-null   object \n",
      " 2   first_day_in_KU                      2905 non-null   object \n",
      " 3   last_day_in_KU                       2905 non-null   object \n",
      " 4   avg_units_sold_in_preceding_90_days  2902 non-null   float64\n",
      " 5   active_in_prime_reading              2905 non-null   int64  \n",
      " 6   genre                                2905 non-null   object \n",
      "dtypes: float64(1), int64(2), object(4)\n",
      "memory usage: 159.0+ KB\n",
      "None\n"
     ]
    }
   ],
   "source": [
    "#display info\n",
    "\n",
    "print(borrows.info())\n",
    "print(titles_data.info())"
   ]
  },
  {
   "cell_type": "code",
   "execution_count": 19,
   "metadata": {},
   "outputs": [
    {
     "name": "stdout",
     "output_type": "stream",
     "text": [
      "Borrows invalid dates #: False    222933\n",
      "True          9\n",
      "Name: Date, dtype: int64\n",
      "Quarter_start_date invalid dates #: False    2904\n",
      "True        1\n",
      "Name: quarter_start_date, dtype: int64\n",
      "first_day_in_KU invalid dates #: False    2905\n",
      "Name: first_day_in_KU, dtype: int64\n",
      "last_day_in_KU invalid dates #: False    2903\n",
      "True        2\n",
      "Name: last_day_in_KU, dtype: int64\n"
     ]
    }
   ],
   "source": [
    "#convert dates from object to datetime\n",
    "\n",
    "borrows['Date'] = pd.to_datetime(borrows.Date,format = '%m/%d/%y', errors = 'coerce')\n",
    "\n",
    "titles_data['quarter_start_date'] = pd.to_datetime(titles_data.quarter_start_date, format = '%m/%d/%y',errors = 'coerce')\n",
    "titles_data['first_day_in_KU'] = pd.to_datetime(titles_data.first_day_in_KU,format = '%m/%d/%y',errors = 'coerce')\n",
    "titles_data['last_day_in_KU'] = pd.to_datetime(titles_data.last_day_in_KU,format = '%m/%d/%y',errors = 'coerce')\n",
    "\n",
    "#convert column types to datetime"
   ]
  },
  {
   "cell_type": "code",
   "execution_count": 20,
   "metadata": {},
   "outputs": [
    {
     "name": "stdout",
     "output_type": "stream",
     "text": [
      "<class 'pandas.core.series.Series'>\n",
      "Borrows invalid dates #: False    222933\n",
      "True          9\n",
      "Name: Date, dtype: int64\n",
      "Quarter_start_date invalid dates #: False    2904\n",
      "True        1\n",
      "Name: quarter_start_date, dtype: int64\n",
      "first_day_in_KU invalid dates #: False    2905\n",
      "Name: first_day_in_KU, dtype: int64\n",
      "last_day_in_KU invalid dates #: False    2903\n",
      "True        2\n",
      "Name: last_day_in_KU, dtype: int64\n"
     ]
    }
   ],
   "source": [
    "#verify type of date columns is now datetime\n",
    "\n",
    "print(type(borrows['Date']))\n",
    "\n",
    "#count number of errors by NaT\n",
    "\n",
    "print(\"Borrows invalid dates #:\", borrows['Date'].isna().value_counts())\n",
    "print(\"Quarter_start_date invalid dates #:\", titles_data['quarter_start_date'].isna().value_counts())\n",
    "print(\"first_day_in_KU invalid dates #:\", titles_data['first_day_in_KU'].isna().value_counts())\n",
    "print(\"last_day_in_KU invalid dates #:\", titles_data['last_day_in_KU'].isna().value_counts())"
   ]
  },
  {
   "cell_type": "code",
   "execution_count": null,
   "metadata": {},
   "outputs": [],
   "source": []
  }
 ],
 "metadata": {
  "kernelspec": {
   "display_name": "Python (learn-env)",
   "language": "python",
   "name": "learn-env"
  },
  "language_info": {
   "codemirror_mode": {
    "name": "ipython",
    "version": 3
   },
   "file_extension": ".py",
   "mimetype": "text/x-python",
   "name": "python",
   "nbconvert_exporter": "python",
   "pygments_lexer": "ipython3",
   "version": "3.8.5"
  }
 },
 "nbformat": 4,
 "nbformat_minor": 4
}
